{
 "cells": [
  {
   "cell_type": "code",
   "execution_count": 1,
   "metadata": {},
   "outputs": [
    {
     "name": "stderr",
     "output_type": "stream",
     "text": [
      "/home/ubuntu/anaconda3/lib/python3.6/site-packages/h5py/__init__.py:36: FutureWarning: Conversion of the second argument of issubdtype from `float` to `np.floating` is deprecated. In future, it will be treated as `np.float64 == np.dtype(float).type`.\n",
      "  from ._conv import register_converters as _register_converters\n"
     ]
    }
   ],
   "source": [
    "from get_data import get_data\n",
    "\n",
    "from matplotlib import pyplot as plt\n",
    "from scipy.signal import resample\n",
    "\n",
    "from sklearn.feature_selection import mutual_info_classif\n",
    "\n",
    "%matplotlib inline\n",
    "\n",
    "from fbcspModel import FBCSP_Model\n",
    "from sklearn.model_selection import train_test_split\n",
    "\n",
    "import numpy as np\n",
    "import pandas as pd"
   ]
  },
  {
   "cell_type": "markdown",
   "metadata": {},
   "source": [
    "## First Set Of Bands "
   ]
  },
  {
   "cell_type": "code",
   "execution_count": 2,
   "metadata": {},
   "outputs": [],
   "source": [
    "Bands = [\n",
    "        [[4,8],\n",
    "        [8,12],\n",
    "        [12,16],\n",
    "        [16,20],\n",
    "        [20,24],\n",
    "        [24,28],\n",
    "        [28,32],\n",
    "        [32,36],\n",
    "        [36,40],]\n",
    "]\n",
    "\n",
    "n_subject = 9"
   ]
  },
  {
   "cell_type": "markdown",
   "metadata": {},
   "source": [
    "# without feature selection"
   ]
  },
  {
   "cell_type": "code",
   "execution_count": 3,
   "metadata": {},
   "outputs": [],
   "source": [
    "accuracy_Without_Any_Selection = [[None for i in range(n_subject)] for i_band in range(len(Bands))]"
   ]
  },
  {
   "cell_type": "code",
   "execution_count": null,
   "metadata": {},
   "outputs": [],
   "source": [
    "kappa_Without_Any_Selection = [[] for i_band in range(len(Bands)) ]"
   ]
  },
  {
   "cell_type": "code",
   "execution_count": null,
   "metadata": {
    "scrolled": false
   },
   "outputs": [
    {
     "name": "stdout",
     "output_type": "stream",
     "text": [
      "============================================================\n",
      "for set Of bands :  [[4, 8], [8, 12], [12, 16], [16, 20], [20, 24], [24, 28], [28, 32], [32, 36], [36, 40]]\n",
      "PATH :  ../../../datasets/BNCI_IV_2A/   subject :  1\n",
      "PATH :  ../../../datasets/BNCI_IV_2A/   subject :  1\n",
      "Calculate filter for band : \n",
      "0 , 1 , 2 , 3 , "
     ]
    }
   ],
   "source": [
    "for i_bands in range(len(Bands)):\n",
    "    print(\"============================================================\")\n",
    "    print(\"for set Of bands : \",Bands[i_bands])\n",
    "    \n",
    "    model = FBCSP_Model(Output='power',\n",
    "                        Path='../../../datasets/BNCI_IV_2A/',\n",
    "                        OneVersuseOne= False,\n",
    "                        selection=False,\n",
    "                        Bands = Bands[i_bands])\n",
    "\n",
    "    for i_subject in range(n_subject):\n",
    "        model.subject = i_subject + 1\n",
    "        model.load_data()\n",
    "        accuracy_Without_Any_Selection[i_bands][i_subject] = model.run_csp()\n",
    "\n",
    "    kappa_Without_Any_Selection[i_bands] = [ (accuracy_Without_Any_Selection[i_bands][i]-0.25)/0.75 for i in range(n_subject) ]\n",
    "    accuracy_Without_Any_Selection[i_bands].append(np.mean(accuracy_Without_Any_Selection[i_bands]))\n",
    "    kappa_Without_Any_Selection[i_bands].append(np.mean(kappa_Without_Any_Selection[i_bands]))\n",
    "    Dataframe = pd.DataFrame({'kappa'    : kappa_Without_Any_Selection[i_bands] ,\n",
    "                              'accuracy' : accuracy_Without_Any_Selection[i_bands] })\n",
    "    last = Dataframe.index[-1]\n",
    "    print(Dataframe.rename(index={last: 'averaged'}))\n",
    "    \n",
    "    print(\"***************************************************************\")"
   ]
  },
  {
   "cell_type": "markdown",
   "metadata": {},
   "source": [
    "# flattening all"
   ]
  },
  {
   "cell_type": "code",
   "execution_count": null,
   "metadata": {},
   "outputs": [],
   "source": [
    "accuracy_Selection_Concatenation = [[None for i in range(n_subject)] for i_band in range(len(Bands))]"
   ]
  },
  {
   "cell_type": "code",
   "execution_count": null,
   "metadata": {},
   "outputs": [],
   "source": [
    "kappa_Selection_Concatenation = [[] for i_band in range(len(Bands)) ]"
   ]
  },
  {
   "cell_type": "code",
   "execution_count": null,
   "metadata": {
    "scrolled": false
   },
   "outputs": [],
   "source": [
    "for i_bands in range(len(Bands)):\n",
    "    print(\"============================================================\")\n",
    "    print(\"for set Of bands : \",Bands[i_bands])\n",
    "    model = FBCSP_Model(Output='power',\n",
    "                        Path='../../../datasets/BNCI_IV_2A/',\n",
    "                    OneVersuseOne= False,\n",
    "                    NO_selection = 16,\n",
    "                    class_selection_base=False,\n",
    "                    Bands = Bands[i_bands] )\n",
    "\n",
    "    for i_subject in range(n_subject):\n",
    "        model.subject = i_subject + 1\n",
    "        model.load_data()\n",
    "        accuracy_Selection_Concatenation[i_bands][i_subject] = model.run_csp()\n",
    "\n",
    "    kappa_Selection_Concatenation[i_bands] = [ (accuracy_Selection_Concatenation[i_bands][i]-0.25)/0.75 for i in range(n_subject) ]\n",
    "    accuracy_Selection_Concatenation[i_bands].append(np.mean(accuracy_Selection_Concatenation[i_bands]))\n",
    "    kappa_Selection_Concatenation[i_bands].append(np.mean(kappa_Selection_Concatenation[i_bands]))\n",
    "    Dataframe = pd.DataFrame({'kappa'    : kappa_Selection_Concatenation[i_bands] ,\n",
    "                              'accuracy' : accuracy_Selection_Concatenation[i_bands] })\n",
    "    last = Dataframe.index[-1]\n",
    "    print(Dataframe.rename(index={last: 'averaged'}))\n",
    "    "
   ]
  },
  {
   "cell_type": "markdown",
   "metadata": {},
   "source": [
    "# class related"
   ]
  },
  {
   "cell_type": "code",
   "execution_count": null,
   "metadata": {},
   "outputs": [],
   "source": [
    "accuracy_Selection_Class = [[None for i in range(n_subject)] for i_band in range(len(Bands))]\n",
    "\n",
    "kappa_Selection_Class = [[] for i_band in range(len(Bands)) ]"
   ]
  },
  {
   "cell_type": "code",
   "execution_count": null,
   "metadata": {},
   "outputs": [],
   "source": [
    "for i_bands in range(len(Bands)):\n",
    "    print(\"============================================================\")\n",
    "    print(\"for set Of bands : \",Bands[i_bands])\n",
    "    model = FBCSP_Model(Output='power',\n",
    "                        Path='../../../datasets/BNCI_IV_2A/',\n",
    "                        OneVersuseOne= False,\n",
    "                        NO_selection = 4,\n",
    "                        class_selection_base=True,\n",
    "                        Bands = Bands[i_bands])\n",
    "\n",
    "    for i_subject in range(n_subject):\n",
    "        model.subject = i_subject + 1\n",
    "        model.load_data()\n",
    "        accuracy_Selection_Class[i_bands][i_subject] = model.run_csp()\n",
    "\n",
    "    kappa_Selection_Class[i_bands] = [ (accuracy_Selection_Class[i_bands][i]-0.25)/0.75 for i in range(n_subject) ]\n",
    "    accuracy_Selection_Class[i_bands].append(np.mean(accuracy_Selection_Class[i_bands]))\n",
    "    kappa_Selection_Class[i_bands].append(np.mean(kappa_Selection_Class[i_bands]))\n",
    "    Dataframe = pd.DataFrame({'kappa'    : kappa_Selection_Class[i_bands] ,\n",
    "                              'accuracy' : accuracy_Selection_Class[i_bands] })\n",
    "    last = Dataframe.index[-1]\n",
    "    print(Dataframe.rename(index={last: 'averaged'}))\n",
    "    "
   ]
  }
 ],
 "metadata": {
  "kernelspec": {
   "display_name": "Python 3",
   "language": "python",
   "name": "python3"
  },
  "language_info": {
   "codemirror_mode": {
    "name": "ipython",
    "version": 3
   },
   "file_extension": ".py",
   "mimetype": "text/x-python",
   "name": "python",
   "nbconvert_exporter": "python",
   "pygments_lexer": "ipython3",
   "version": "3.6.4"
  }
 },
 "nbformat": 4,
 "nbformat_minor": 2
}
